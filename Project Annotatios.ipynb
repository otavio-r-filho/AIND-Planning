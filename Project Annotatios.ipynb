{
 "cells": [
  {
   "cell_type": "markdown",
   "metadata": {
    "deletable": true,
    "editable": true
   },
   "source": [
    "### Checking the format function capabilities\n",
    "\n",
    "Check if the format function will yeld the \"Load(C1, P1, SFO)\" string"
   ]
  },
  {
   "cell_type": "code",
   "execution_count": 2,
   "metadata": {
    "collapsed": false,
    "deletable": true,
    "editable": true
   },
   "outputs": [
    {
     "name": "stdout",
     "output_type": "stream",
     "text": [
      "Load(C1, P1, SFO)\n"
     ]
    }
   ],
   "source": [
    "test_string = \"Load(C1, P1, SFO)\"\n",
    "\n",
    "cargo = \"C1\"\n",
    "plane = \"P1\"\n",
    "airport = \"SFO\"\n",
    "\n",
    "fmt_string = \"Load({0}, {1}, {2})\".format(cargo, plane, airport)\n",
    "\n",
    "assert(test_string == fmt_string)\n",
    "\n",
    "print(fmt_string)"
   ]
  },
  {
   "cell_type": "markdown",
   "metadata": {},
   "source": [
    "### Testing duplicate insertion in a set"
   ]
  },
  {
   "cell_type": "code",
   "execution_count": 5,
   "metadata": {
    "collapsed": false
   },
   "outputs": [
    {
     "name": "stdout",
     "output_type": "stream",
     "text": [
      "{1, 2, 3}\n",
      "{1, 2, 3, 4}\n",
      "{1, 2, 3, 4}\n"
     ]
    }
   ],
   "source": [
    "some_set = set([1,2,3])\n",
    "print(some_set)\n",
    "\n",
    "some_set.add(4)\n",
    "print(some_set)\n",
    "\n",
    "some_set.add(1)\n",
    "print(some_set)"
   ]
  }
 ],
 "metadata": {
  "kernelspec": {
   "display_name": "Python [conda env: aind]",
   "language": "python",
   "name": "aind"
  },
  "language_info": {
   "codemirror_mode": {
    "name": "ipython",
    "version": 3
   },
   "file_extension": ".py",
   "mimetype": "text/x-python",
   "name": "python",
   "nbconvert_exporter": "python",
   "pygments_lexer": "ipython3",
   "version": "3.6.1"
  }
 },
 "nbformat": 4,
 "nbformat_minor": 2
}
